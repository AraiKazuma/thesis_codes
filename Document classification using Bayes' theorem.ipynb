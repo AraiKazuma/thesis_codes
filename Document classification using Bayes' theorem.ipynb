{
 "cells": [
  {
   "cell_type": "code",
   "execution_count": 1,
   "metadata": {},
   "outputs": [],
   "source": [
    "import requests\n",
    "import json\n",
    "import pandas as pd\n",
    "from   sklearn.feature_extraction.text import TfidfVectorizer"
   ]
  },
  {
   "cell_type": "code",
   "execution_count": 13,
   "metadata": {},
   "outputs": [],
   "source": [
    "syanai = pd.read_excel('ベイズ分類.xlsx', sheet_name=\"社内\",header =None)\n",
    "syagai = pd.read_excel('ベイズ分類.xlsx', sheet_name=\"社外\",header =None)\n",
    "teirei = pd.read_excel('ベイズ分類.xlsx', sheet_name=\"定例\",header =None)\n",
    "\n",
    "dataset = {'社内': syanai,'社外': syagai,'定例': teirei,}"
   ]
  },
  {
   "cell_type": "markdown",
   "metadata": {},
   "source": [
    "# ベイズの定理でテキスト分類！"
   ]
  },
  {
   "cell_type": "code",
   "execution_count": 14,
   "metadata": {},
   "outputs": [],
   "source": [
    "#ソース：https://github.com/kujirahand/book-python\\scraping.git「pythonによるスクレイピング＆機械学習」\n",
    "import math, sys\n",
    "from janome.tokenizer import Tokenizer # 形態素解析用\n",
    "\n",
    "class BayesianFilter:\n",
    "    \"\"\" ベイジアンフィルタ \"\"\"\n",
    "    def __init__(self):\n",
    "        self.words = set() # 出現した単語を全て記録\n",
    "        self.word_dict = {} # カテゴリごとの単語出現回数を記録\n",
    "        self.category_dict = {} # カテゴリの出現回数を記録\n",
    "\n",
    "    # 形態素解析を行う\n",
    "    def split(self, text):\n",
    "        result = []\n",
    "        t = Tokenizer()\n",
    "        malist = t.tokenize(text)\n",
    "        for w in malist:\n",
    "            sf = w.surface   # 区切られた単語そのまま \n",
    "            bf = w.base_form # 単語の基本形\n",
    "            if bf == '' or bf == \"*\": bf = sf\n",
    "            result.append(bf)\n",
    "        return result\n",
    "\n",
    "    # 単語とカテゴリを数える処理 \n",
    "    def inc_word(self, word, category):\n",
    "        # 単語をカテゴリに追加\n",
    "        if not category in self.word_dict:\n",
    "            self.word_dict[category] = {}\n",
    "        if not word in self.word_dict[category]:\n",
    "            self.word_dict[category][word] = 0\n",
    "        self.word_dict[category][word] += 1\n",
    "        self.words.add(word)\n",
    "    def inc_category(self, category):\n",
    "        # カテゴリを加算する\n",
    "        if not category in self.category_dict:\n",
    "            self.category_dict[category] = 0\n",
    "        self.category_dict[category] += 1\n",
    "\n",
    "    # テキストを学習する \n",
    "    def fit(self, text, category):\n",
    "        \"\"\" テキストの学習 \"\"\"\n",
    "        word_list = self.split(text)\n",
    "        for word in word_list:\n",
    "            self.inc_word(word, category)\n",
    "        self.inc_category(category)\n",
    "\n",
    "    # カテゴリにおける単語リストのスコアを計算する \n",
    "    def score(self, words, category):\n",
    "        score = math.log(self.category_prob(category))\n",
    "        for word in words:\n",
    "            score += math.log(self.word_prob(word, category))\n",
    "        return score\n",
    "\n",
    "    # テキストのカテゴリ分けを行う\n",
    "    def predict(self, text):\n",
    "        best_category = None\n",
    "        max_score = -sys.maxsize \n",
    "        words = self.split(text)\n",
    "        score_list = []\n",
    "        for category in self.category_dict.keys():\n",
    "            score = self.score(words, category)\n",
    "            score_list.append((category, score))\n",
    "            if score > max_score:\n",
    "                max_score = score\n",
    "                best_category = category\n",
    "        return best_category, score_list\n",
    "\n",
    "    # カテゴリ内の単語出現数を得る\n",
    "    def get_word_count(self, word, category):\n",
    "        if word in self.word_dict[category]:\n",
    "            return self.word_dict[category][word]\n",
    "        else:\n",
    "            return 0\n",
    "\n",
    "    # カテゴリ/総カテゴリを計算\n",
    "    def category_prob(self, category):\n",
    "        sum_categories = sum(self.category_dict.values())\n",
    "        category_v = self.category_dict[category]\n",
    "        return category_v / sum_categories\n",
    "        \n",
    "    # カテゴリ内の単語の出現率を計算 \n",
    "    def word_prob(self, word, category):\n",
    "        n = self.get_word_count(word, category) + 1\n",
    "        d = sum(self.word_dict[category].values()) + len(self.words)\n",
    "        return n / d"
   ]
  },
  {
   "cell_type": "code",
   "execution_count": 15,
   "metadata": {},
   "outputs": [],
   "source": [
    "bf = BayesianFilter()\n",
    "\n",
    "for what in dataset:\n",
    "    for one_bun in dataset[what][:][0]:\n",
    "        bf.fit(one_bun,what)"
   ]
  },
  {
   "cell_type": "code",
   "execution_count": 16,
   "metadata": {},
   "outputs": [
    {
     "name": "stdout",
     "output_type": "stream",
     "text": [
      "結果= 社外\n",
      "[('社内', -9.635706141790685), ('社外', -8.848222068371385), ('定例', -9.640563131210074)]\n"
     ]
    }
   ],
   "source": [
    "#任意の文章が、どれと近いは判別する。（ベイジアンフィルタで）\n",
    "#　　　　　　　　　　　　　　　↓文章を適当に入力。\n",
    "pre, scorelist = bf.predict(\"お疲れ様です\")\n",
    "print(\"結果=\",pre)\n",
    "print(scorelist)"
   ]
  },
  {
   "cell_type": "code",
   "execution_count": null,
   "metadata": {},
   "outputs": [],
   "source": []
  }
 ],
 "metadata": {
  "kernelspec": {
   "display_name": "Python 3",
   "language": "python",
   "name": "python3"
  },
  "language_info": {
   "codemirror_mode": {
    "name": "ipython",
    "version": 3
   },
   "file_extension": ".py",
   "mimetype": "text/x-python",
   "name": "python",
   "nbconvert_exporter": "python",
   "pygments_lexer": "ipython3",
   "version": "3.7.1"
  },
  "toc": {
   "colors": {
    "hover_highlight": "#DAA520",
    "navigate_num": "#000000",
    "navigate_text": "#333333",
    "running_highlight": "#FF0000",
    "selected_highlight": "#FFD700",
    "sidebar_border": "#EEEEEE",
    "wrapper_background": "#FFFFFF"
   },
   "moveMenuLeft": true,
   "nav_menu": {
    "height": "12px",
    "width": "252px"
   },
   "navigate_menu": true,
   "number_sections": true,
   "sideBar": true,
   "threshold": 4,
   "toc_cell": false,
   "toc_section_display": "block",
   "toc_window_display": false,
   "widenNotebook": false
  }
 },
 "nbformat": 4,
 "nbformat_minor": 2
}

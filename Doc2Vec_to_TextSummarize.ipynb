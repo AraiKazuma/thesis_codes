{
 "cells": [
  {
   "cell_type": "code",
   "execution_count": 2,
   "metadata": {},
   "outputs": [],
   "source": [
    "import requests\n",
    "import json\n",
    "import pandas as pd\n",
    "from   sklearn.feature_extraction.text import TfidfVectorizer"
   ]
  },
  {
   "cell_type": "markdown",
   "metadata": {},
   "source": [
    "# Get YouTube Comments(YouTubeのコメントを取得します。)\n",
    "https://qiita.com/chieeeeno/items/ba0d2fb0a45db786746f"
   ]
  },
  {
   "cell_type": "code",
   "execution_count": 6,
   "metadata": {},
   "outputs": [],
   "source": [
    "URL = 'https://www.googleapis.com/youtube/v3/'\n",
    "API_KEY = 'get the API'########!\"!!!!!!!!!!!!!!!!!!!!!!!!!!!!\""
   ]
  },
  {
   "cell_type": "code",
   "execution_count": 7,
   "metadata": {},
   "outputs": [],
   "source": [
    "def print_video_comment(video_id, n=10):\n",
    "    comment = pd.DataFrame()\n",
    "    params = {\n",
    "        'key': API_KEY,\n",
    "        'part': 'snippet',\n",
    "        'videoId': video_id,\n",
    "        'order': 'relevance',\n",
    "        'textFormat': 'plaintext',\n",
    "        'maxResults': n,\n",
    "    }\n",
    "    response = requests.get(URL + 'commentThreads', params=params)\n",
    "    resource = response.json()\n",
    "    for comment_info in resource['items']:\n",
    "        # コメント\n",
    "        text = comment_info['snippet']['topLevelComment']['snippet']['textDisplay']\n",
    "        # グッド数\n",
    "        like_cnt = comment_info['snippet']['topLevelComment']['snippet']['likeCount']\n",
    "        # 返信数\n",
    "        reply_cnt = comment_info['snippet']['totalReplyCount']\n",
    "        temp = pd.DataFrame([[text,like_cnt,reply_cnt]])\n",
    "        comment = comment.append(temp) \n",
    "    return comment"
   ]
  },
  {
   "attachments": {
    "image.png": {
     "image/png": "[encoded data removed]"
    }
   },
   "cell_type": "markdown",
   "metadata": {},
   "source": [
    "![image.png](attachment:image.png)"
   ]
  },
  {
   "cell_type": "code",
   "execution_count": 9,
   "metadata": {
    "scrolled": true
   },
   "outputs": [],
   "source": [
    "video_id = 'chose URL' #動画ＵＲＬのｖ＝以下。\n",
    "#                                       ↓実験の結果、マックスが１００でした。１０１不可。\n",
    "komento = print_video_comment(video_id, n=100) "
   ]
  },
  {
   "cell_type": "markdown",
   "metadata": {},
   "source": [
    "# 取得したデータを保存⇒読み込みする"
   ]
  },
  {
   "cell_type": "code",
   "execution_count": 10,
   "metadata": {},
   "outputs": [],
   "source": [
    "import openpyxl"
   ]
  },
  {
   "cell_type": "code",
   "execution_count": 11,
   "metadata": {},
   "outputs": [],
   "source": [
    "##                  ↓直下に作成。\n",
    "komento.to_excel('komento.xlsx', index=False)"
   ]
  },
  {
   "cell_type": "markdown",
   "metadata": {},
   "source": [
    "# テキストマイニング用データ作成"
   ]
  },
  {
   "cell_type": "code",
   "execution_count": 21,
   "metadata": {},
   "outputs": [],
   "source": [
    "#データの読み込み＆データセットの作成。\n",
    "##上で作ったエクセルを愚直に並べるだけ。\n",
    "komento = pd.read_excel('komento.xlsx')"
   ]
  },
  {
   "cell_type": "code",
   "execution_count": 75,
   "metadata": {},
   "outputs": [
    {
     "data": {
      "text/plain": [
       "50        積立保険が必要もない事はわかったけど他のどんなものに投資したらいいのかわからないんだよなあ\n",
       "51    初めまして。わかりすい解説に驚きと感謝です。この手の動画、そもそものつかわれる言葉が難しくて...\n",
       "52    利率7%で運用できるってあるんですか？\\nでもハイリスクハイリターンなので、そんな利率で損な...\n",
       "53    「不幸の宝くじ」という言い回しに感銘を受けました。\\n具体的な根拠なく自らが不幸になると予想...\n",
       "54                                         これ聞いて保険解約した。\n",
       "55    大変勉強になりました。ありがとうございます。\\nお考えを伺いたいのですが、医療保障などの特約...\n",
       "56    生命保険やがん保険、学資保険に合計年額45万円も入っていました・・・\\n中にはiDeCoの下...\n",
       "57                                            えー！(心の声)w\n",
       "58                  プルデンシャルの生命保険について聞きたいです。手数料とか全くないです。\n",
       "59                                                 税金対策\n",
       "60                                           まじで有益すぎる動画\n",
       "61    保険売ってる人たちもほとんど投資の勉強をしていないから、「保険が全て！」みたいな発想になるん...\n",
       "Name: 0, dtype: object"
      ]
     },
     "execution_count": 75,
     "metadata": {},
     "output_type": "execute_result"
    }
   ],
   "source": [
    "komento[0][50:]"
   ]
  },
  {
   "cell_type": "markdown",
   "metadata": {},
   "source": [
    "# テキストマイニング開始。"
   ]
  },
  {
   "cell_type": "code",
   "execution_count": 12,
   "metadata": {},
   "outputs": [],
   "source": [
    "#★★ Janome 'Hello 蛇の目'★★\n",
    "from janome.tokenizer import Tokenizer\n",
    "from janome.analyzer import Analyzer\n",
    "from janome.tokenfilter import *"
   ]
  },
  {
   "cell_type": "code",
   "execution_count": 13,
   "metadata": {},
   "outputs": [],
   "source": [
    "from pathlib import Path\n",
    "import itertools\n",
    "import collections\n",
    "import pandas as pd\n",
    "import networkx as nx\n",
    "import matplotlib.pyplot as plt\n",
    "import seaborn as sns"
   ]
  },
  {
   "cell_type": "markdown",
   "metadata": {},
   "source": [
    "# コメントに登場した”単語”の数を数えてみる。"
   ]
  },
  {
   "cell_type": "code",
   "execution_count": 105,
   "metadata": {},
   "outputs": [],
   "source": [
    "#ジャンル（文章）ごとの形態素解析を定義\n",
    "tan_list_bunS = [] #ジャンル（文章）ごとの出現単語を登場させる。\n",
    "t = Tokenizer()\n",
    "for what in komento[0]:\n",
    "    temp_tan_list_bun = []\n",
    "    all_kome      = what\n",
    "    temp_tan_list_bun = [token.base_form for token in t.tokenize(all_kome)\n",
    "             if token.part_of_speech.startswith('動詞')\n",
    "             or token.part_of_speech.startswith('名詞,一般')\n",
    "             or token.part_of_speech.startswith('形容詞')\n",
    "                    ]\n",
    "    tan_list_bunS.append(temp_tan_list_bun)    "
   ]
  },
  {
   "cell_type": "code",
   "execution_count": null,
   "metadata": {},
   "outputs": [],
   "source": [
    "tan_list_bunS"
   ]
  },
  {
   "attachments": {
    "image.png": {
     "image/png": "[encoded data removed]"
    }
   },
   "cell_type": "markdown",
   "metadata": {},
   "source": [
    "![image.png](attachment:image.png)"
   ]
  },
  {
   "cell_type": "markdown",
   "metadata": {},
   "source": [
    "# doc2vec（ジャンル（文章）ごとに文章をベクトル化する。）\n",
    "# word2vecにも対応！\n",
    "https://qiita.com/naotaka1128/items/2c4551abfd40e43b0146#2-gensim-%E3%81%A7-doc2vec-%E3%81%AE%E3%83%A2%E3%83%87%E3%83%AB%E6%A7%8B%E7%AF%89"
   ]
  },
  {
   "cell_type": "code",
   "execution_count": 107,
   "metadata": {},
   "outputs": [],
   "source": [
    "#解析用データ作成ツール。\n",
    "# 参考記事： http://qiita.com/okappy/items/32a7ba7eddf8203c9fa1\n",
    "class LabeledListSentence(object):\n",
    "    def __init__(self, words_list, labels):\n",
    "        self.words_list = words_list\n",
    "        self.labels = labels\n",
    "\n",
    "    def __iter__(self):\n",
    "        for i, words in enumerate(self.words_list):\n",
    "            yield models.doc2vec.LabeledSentence(words, ['%s' % self.labels[i]])"
   ]
  },
  {
   "cell_type": "code",
   "execution_count": 108,
   "metadata": {},
   "outputs": [],
   "source": [
    "#クラスごとにラベルを構築\n",
    "cls_list_bunS = []\n",
    "for what in range(1,97):\n",
    "    cls_list_bunS.append(what)"
   ]
  },
  {
   "cell_type": "code",
   "execution_count": 119,
   "metadata": {},
   "outputs": [
    {
     "name": "stderr",
     "output_type": "stream",
     "text": [
      "C:\\Users\\araik\\Anaconda3\\lib\\site-packages\\gensim\\models\\doc2vec.py:570: UserWarning: The parameter `iter` is deprecated, will be removed in 4.0.0, use `epochs` instead.\n",
      "  warnings.warn(\"The parameter `iter` is deprecated, will be removed in 4.0.0, use `epochs` instead.\")\n",
      "C:\\Users\\araik\\Anaconda3\\lib\\site-packages\\gensim\\models\\doc2vec.py:574: UserWarning: The parameter `size` is deprecated, will be removed in 4.0.0, use `vector_size` instead.\n",
      "  warnings.warn(\"The parameter `size` is deprecated, will be removed in 4.0.0, use `vector_size` instead.\")\n",
      "C:\\Users\\araik\\Anaconda3\\lib\\site-packages\\ipykernel_launcher.py:10: DeprecationWarning: Call to deprecated `LabeledSentence` (Class will be removed in 4.0.0, use TaggedDocument instead).\n",
      "  # Remove the CWD from sys.path while we load stuff.\n"
     ]
    }
   ],
   "source": [
    "# ライブラリ読み込み\n",
    "from gensim import models\n",
    "\n",
    "sentences = LabeledListSentence(tan_list_bunS, cls_list_bunS)\n",
    "model = models.Doc2Vec(alpha=0.25, min_count=1,\n",
    "                       size=2, iter=10,works=13)\n",
    "model.build_vocab(sentences)\n",
    "model.train(sentences, total_examples = model.corpus_count, epochs = model.epochs)\n",
    "\n",
    "companies = model.docvecs.offset2doctag"
   ]
  },
  {
   "cell_type": "code",
   "execution_count": 120,
   "metadata": {},
   "outputs": [
    {
     "data": {
      "text/plain": [
       "array([[0.25087833, 0.2581213 ],\n",
       "       [1.7307739 , 1.2147293 ],\n",
       "       [1.1227889 , 0.946293  ]], dtype=float32)"
      ]
     },
     "execution_count": 120,
     "metadata": {},
     "output_type": "execute_result"
    }
   ],
   "source": [
    "model.docvecs.vectors_docs[:3]"
   ]
  },
  {
   "cell_type": "code",
   "execution_count": 121,
   "metadata": {},
   "outputs": [],
   "source": [
    "df_vec = pd.DataFrame(model.docvecs.vectors_docs)"
   ]
  },
  {
   "cell_type": "code",
   "execution_count": 122,
   "metadata": {},
   "outputs": [
    {
     "data": {
      "text/html": [
       "<div>\n",
       "<style scoped>\n",
       "    .dataframe tbody tr th:only-of-type {\n",
       "        vertical-align: middle;\n",
       "    }\n",
       "\n",
       "    .dataframe tbody tr th {\n",
       "        vertical-align: top;\n",
       "    }\n",
       "\n",
       "    .dataframe thead th {\n",
       "        text-align: right;\n",
       "    }\n",
       "</style>\n",
       "<table border=\"1\" class=\"dataframe\">\n",
       "  <thead>\n",
       "    <tr style=\"text-align: right;\">\n",
       "      <th></th>\n",
       "      <th>0</th>\n",
       "      <th>1</th>\n",
       "    </tr>\n",
       "  </thead>\n",
       "  <tbody>\n",
       "    <tr>\n",
       "      <th>0</th>\n",
       "      <td>0.250878</td>\n",
       "      <td>0.258121</td>\n",
       "    </tr>\n",
       "    <tr>\n",
       "      <th>1</th>\n",
       "      <td>1.730774</td>\n",
       "      <td>1.214729</td>\n",
       "    </tr>\n",
       "    <tr>\n",
       "      <th>2</th>\n",
       "      <td>1.122789</td>\n",
       "      <td>0.946293</td>\n",
       "    </tr>\n",
       "  </tbody>\n",
       "</table>\n",
       "</div>"
      ],
      "text/plain": [
       "          0         1\n",
       "0  0.250878  0.258121\n",
       "1  1.730774  1.214729\n",
       "2  1.122789  0.946293"
      ]
     },
     "execution_count": 122,
     "metadata": {},
     "output_type": "execute_result"
    }
   ],
   "source": [
    "df_vec[:3]"
   ]
  },
  {
   "cell_type": "code",
   "execution_count": 123,
   "metadata": {},
   "outputs": [
    {
     "data": {
      "image/png": "[encoded data removed]",
      "text/plain": [
       "<Figure size 432x288 with 1 Axes>"
      ]
     },
     "metadata": {
      "needs_background": "light"
     },
     "output_type": "display_data"
    }
   ],
   "source": [
    "%matplotlib inline\n",
    "from pylab import *\n",
    "import matplotlib.pyplot as plt\n",
    "\n",
    "fig,ax = plt.subplots()\n",
    "ax.scatter(df_vec[:][0], df_vec[:][1])\n",
    "# 下の二行で各点に番号をつける\n",
    "for i,(x,y) in enumerate(zip( df_vec[:][0], df_vec[:][1])):\n",
    "    ax.annotate(str(i),(x,y))"
   ]
  },
  {
   "cell_type": "code",
   "execution_count": null,
   "metadata": {},
   "outputs": [],
   "source": []
  }
 ],
 "metadata": {
  "kernelspec": {
   "display_name": "Python 3",
   "language": "python",
   "name": "python3"
  },
  "language_info": {
   "codemirror_mode": {
    "name": "ipython",
    "version": 3
   },
   "file_extension": ".py",
   "mimetype": "text/x-python",
   "name": "python",
   "nbconvert_exporter": "python",
   "pygments_lexer": "ipython3",
   "version": "3.7.1"
  },
  "toc": {
   "colors": {
    "hover_highlight": "#DAA520",
    "navigate_num": "#000000",
    "navigate_text": "#333333",
    "running_highlight": "#FF0000",
    "selected_highlight": "#FFD700",
    "sidebar_border": "#EEEEEE",
    "wrapper_background": "#FFFFFF"
   },
   "moveMenuLeft": true,
   "nav_menu": {
    "height": "12px",
    "width": "252px"
   },
   "navigate_menu": true,
   "number_sections": true,
   "sideBar": true,
   "threshold": 4,
   "toc_cell": false,
   "toc_section_display": "block",
   "toc_window_display": false,
   "widenNotebook": false
  }
 },
 "nbformat": 4,
 "nbformat_minor": 2
}
